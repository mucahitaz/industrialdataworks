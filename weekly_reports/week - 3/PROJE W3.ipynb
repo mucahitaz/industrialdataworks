{
 "cells": [
  {
   "cell_type": "code",
   "execution_count": 1,
   "metadata": {},
   "outputs": [
    {
     "name": "stdout",
     "output_type": "stream",
     "text": [
      "gender_submission.csv\n",
      "test.csv\n",
      "train.csv\n",
      "\n"
     ]
    },
    {
     "data": {
      "text/html": [
       "<div>\n",
       "<style scoped>\n",
       "    .dataframe tbody tr th:only-of-type {\n",
       "        vertical-align: middle;\n",
       "    }\n",
       "\n",
       "    .dataframe tbody tr th {\n",
       "        vertical-align: top;\n",
       "    }\n",
       "\n",
       "    .dataframe thead th {\n",
       "        text-align: right;\n",
       "    }\n",
       "</style>\n",
       "<table border=\"1\" class=\"dataframe\">\n",
       "  <thead>\n",
       "    <tr style=\"text-align: right;\">\n",
       "      <th></th>\n",
       "      <th>PassengerId</th>\n",
       "      <th>Survived</th>\n",
       "      <th>Pclass</th>\n",
       "      <th>Name</th>\n",
       "      <th>Sex</th>\n",
       "      <th>Age</th>\n",
       "      <th>SibSp</th>\n",
       "      <th>Parch</th>\n",
       "      <th>Ticket</th>\n",
       "      <th>Fare</th>\n",
       "      <th>Cabin</th>\n",
       "      <th>Embarked</th>\n",
       "    </tr>\n",
       "  </thead>\n",
       "  <tbody>\n",
       "    <tr>\n",
       "      <td>0</td>\n",
       "      <td>1</td>\n",
       "      <td>0</td>\n",
       "      <td>3</td>\n",
       "      <td>Braund, Mr. Owen Harris</td>\n",
       "      <td>male</td>\n",
       "      <td>22.0</td>\n",
       "      <td>1</td>\n",
       "      <td>0</td>\n",
       "      <td>A/5 21171</td>\n",
       "      <td>7.2500</td>\n",
       "      <td>NaN</td>\n",
       "      <td>S</td>\n",
       "    </tr>\n",
       "    <tr>\n",
       "      <td>1</td>\n",
       "      <td>2</td>\n",
       "      <td>1</td>\n",
       "      <td>1</td>\n",
       "      <td>Cumings, Mrs. John Bradley (Florence Briggs Th...</td>\n",
       "      <td>female</td>\n",
       "      <td>38.0</td>\n",
       "      <td>1</td>\n",
       "      <td>0</td>\n",
       "      <td>PC 17599</td>\n",
       "      <td>71.2833</td>\n",
       "      <td>C85</td>\n",
       "      <td>C</td>\n",
       "    </tr>\n",
       "    <tr>\n",
       "      <td>2</td>\n",
       "      <td>3</td>\n",
       "      <td>1</td>\n",
       "      <td>3</td>\n",
       "      <td>Heikkinen, Miss. Laina</td>\n",
       "      <td>female</td>\n",
       "      <td>26.0</td>\n",
       "      <td>0</td>\n",
       "      <td>0</td>\n",
       "      <td>STON/O2. 3101282</td>\n",
       "      <td>7.9250</td>\n",
       "      <td>NaN</td>\n",
       "      <td>S</td>\n",
       "    </tr>\n",
       "    <tr>\n",
       "      <td>3</td>\n",
       "      <td>4</td>\n",
       "      <td>1</td>\n",
       "      <td>1</td>\n",
       "      <td>Futrelle, Mrs. Jacques Heath (Lily May Peel)</td>\n",
       "      <td>female</td>\n",
       "      <td>35.0</td>\n",
       "      <td>1</td>\n",
       "      <td>0</td>\n",
       "      <td>113803</td>\n",
       "      <td>53.1000</td>\n",
       "      <td>C123</td>\n",
       "      <td>S</td>\n",
       "    </tr>\n",
       "    <tr>\n",
       "      <td>4</td>\n",
       "      <td>5</td>\n",
       "      <td>0</td>\n",
       "      <td>3</td>\n",
       "      <td>Allen, Mr. William Henry</td>\n",
       "      <td>male</td>\n",
       "      <td>35.0</td>\n",
       "      <td>0</td>\n",
       "      <td>0</td>\n",
       "      <td>373450</td>\n",
       "      <td>8.0500</td>\n",
       "      <td>NaN</td>\n",
       "      <td>S</td>\n",
       "    </tr>\n",
       "  </tbody>\n",
       "</table>\n",
       "</div>"
      ],
      "text/plain": [
       "   PassengerId  Survived  Pclass  \\\n",
       "0            1         0       3   \n",
       "1            2         1       1   \n",
       "2            3         1       3   \n",
       "3            4         1       1   \n",
       "4            5         0       3   \n",
       "\n",
       "                                                Name     Sex   Age  SibSp  \\\n",
       "0                            Braund, Mr. Owen Harris    male  22.0      1   \n",
       "1  Cumings, Mrs. John Bradley (Florence Briggs Th...  female  38.0      1   \n",
       "2                             Heikkinen, Miss. Laina  female  26.0      0   \n",
       "3       Futrelle, Mrs. Jacques Heath (Lily May Peel)  female  35.0      1   \n",
       "4                           Allen, Mr. William Henry    male  35.0      0   \n",
       "\n",
       "   Parch            Ticket     Fare Cabin Embarked  \n",
       "0      0         A/5 21171   7.2500   NaN        S  \n",
       "1      0          PC 17599  71.2833   C85        C  \n",
       "2      0  STON/O2. 3101282   7.9250   NaN        S  \n",
       "3      0            113803  53.1000  C123        S  \n",
       "4      0            373450   8.0500   NaN        S  "
      ]
     },
     "execution_count": 1,
     "metadata": {},
     "output_type": "execute_result"
    }
   ],
   "source": [
    "import warnings\n",
    "warnings.simplefilter('ignore')\n",
    "\n",
    "import numpy as np\n",
    "import pandas as pd\n",
    "import seaborn as sns\n",
    "import matplotlib.pyplot as plt\n",
    "\n",
    "from sklearn import tree\n",
    "from sklearn.model_selection import cross_val_score, KFold,StratifiedKFold,train_test_split\n",
    "from sklearn.preprocessing import MinMaxScaler\n",
    "from sklearn.metrics import roc_auc_score\n",
    "from sklearn.tree import DecisionTreeClassifier\n",
    "from sklearn.ensemble import RandomForestClassifier, BaggingClassifier, AdaBoostClassifier, VotingClassifier\n",
    "from sklearn.linear_model import LogisticRegression\n",
    "\n",
    "\n",
    "from subprocess import check_output\n",
    "print(check_output([\"ls\",\"../data/titanic\"]).decode(\"utf8\"))\n",
    "\n",
    "train_data = pd.read_csv('../data/titanic/train.csv', dtype={'Age': np.float16})\n",
    "\n",
    "train_data.head()"
   ]
  },
  {
   "cell_type": "code",
   "execution_count": 2,
   "metadata": {},
   "outputs": [
    {
     "name": "stdout",
     "output_type": "stream",
     "text": [
      "Train columns with null values:\n",
      " PassengerId      0\n",
      "Survived         0\n",
      "Pclass           0\n",
      "Name             0\n",
      "Sex              0\n",
      "Age            177\n",
      "SibSp            0\n",
      "Parch            0\n",
      "Ticket           0\n",
      "Fare             0\n",
      "Cabin          687\n",
      "Embarked         2\n",
      "dtype: int64\n",
      "----------\n"
     ]
    }
   ],
   "source": [
    "print('Train columns with null values:\\n', train_data.isnull().sum())\n",
    "print(\"-\" * 10)"
   ]
  },
  {
   "cell_type": "code",
   "execution_count": 3,
   "metadata": {},
   "outputs": [
    {
     "data": {
      "text/plain": [
       "1    537\n",
       "0    354\n",
       "Name: not_alone, dtype: int64"
      ]
     },
     "execution_count": 3,
     "metadata": {},
     "output_type": "execute_result"
    }
   ],
   "source": [
    "data = [train_data]\n",
    "for dataset in data:\n",
    "    dataset['relatives'] = dataset['SibSp'] + dataset['Parch']\n",
    "    dataset.loc[dataset['relatives'] > 0, 'not_alone'] = 0\n",
    "    dataset.loc[dataset['relatives'] == 0, 'not_alone'] = 1\n",
    "    dataset['not_alone'] = dataset['not_alone'].astype(int)\n",
    "train_data['not_alone'].value_counts()"
   ]
  },
  {
   "cell_type": "code",
   "execution_count": 4,
   "metadata": {},
   "outputs": [
    {
     "data": {
      "text/html": [
       "<div>\n",
       "<style scoped>\n",
       "    .dataframe tbody tr th:only-of-type {\n",
       "        vertical-align: middle;\n",
       "    }\n",
       "\n",
       "    .dataframe tbody tr th {\n",
       "        vertical-align: top;\n",
       "    }\n",
       "\n",
       "    .dataframe thead th {\n",
       "        text-align: right;\n",
       "    }\n",
       "</style>\n",
       "<table border=\"1\" class=\"dataframe\">\n",
       "  <thead>\n",
       "    <tr style=\"text-align: right;\">\n",
       "      <th></th>\n",
       "      <th>PassengerId</th>\n",
       "      <th>Survived</th>\n",
       "      <th>Pclass</th>\n",
       "      <th>Name</th>\n",
       "      <th>Sex</th>\n",
       "      <th>Age</th>\n",
       "      <th>SibSp</th>\n",
       "      <th>Parch</th>\n",
       "      <th>Ticket</th>\n",
       "      <th>Fare</th>\n",
       "      <th>Cabin</th>\n",
       "      <th>Embarked</th>\n",
       "      <th>relatives</th>\n",
       "      <th>not_alone</th>\n",
       "    </tr>\n",
       "  </thead>\n",
       "  <tbody>\n",
       "    <tr>\n",
       "      <td>0</td>\n",
       "      <td>1</td>\n",
       "      <td>0</td>\n",
       "      <td>3</td>\n",
       "      <td>Braund, Mr. Owen Harris</td>\n",
       "      <td>male</td>\n",
       "      <td>22.0</td>\n",
       "      <td>1</td>\n",
       "      <td>0</td>\n",
       "      <td>A/5 21171</td>\n",
       "      <td>7.2500</td>\n",
       "      <td>NaN</td>\n",
       "      <td>S</td>\n",
       "      <td>1</td>\n",
       "      <td>0</td>\n",
       "    </tr>\n",
       "    <tr>\n",
       "      <td>1</td>\n",
       "      <td>2</td>\n",
       "      <td>1</td>\n",
       "      <td>1</td>\n",
       "      <td>Cumings, Mrs. John Bradley (Florence Briggs Th...</td>\n",
       "      <td>female</td>\n",
       "      <td>38.0</td>\n",
       "      <td>1</td>\n",
       "      <td>0</td>\n",
       "      <td>PC 17599</td>\n",
       "      <td>71.2833</td>\n",
       "      <td>C85</td>\n",
       "      <td>C</td>\n",
       "      <td>1</td>\n",
       "      <td>0</td>\n",
       "    </tr>\n",
       "    <tr>\n",
       "      <td>2</td>\n",
       "      <td>3</td>\n",
       "      <td>1</td>\n",
       "      <td>3</td>\n",
       "      <td>Heikkinen, Miss. Laina</td>\n",
       "      <td>female</td>\n",
       "      <td>26.0</td>\n",
       "      <td>0</td>\n",
       "      <td>0</td>\n",
       "      <td>STON/O2. 3101282</td>\n",
       "      <td>7.9250</td>\n",
       "      <td>NaN</td>\n",
       "      <td>S</td>\n",
       "      <td>0</td>\n",
       "      <td>1</td>\n",
       "    </tr>\n",
       "    <tr>\n",
       "      <td>3</td>\n",
       "      <td>4</td>\n",
       "      <td>1</td>\n",
       "      <td>1</td>\n",
       "      <td>Futrelle, Mrs. Jacques Heath (Lily May Peel)</td>\n",
       "      <td>female</td>\n",
       "      <td>35.0</td>\n",
       "      <td>1</td>\n",
       "      <td>0</td>\n",
       "      <td>113803</td>\n",
       "      <td>53.1000</td>\n",
       "      <td>C123</td>\n",
       "      <td>S</td>\n",
       "      <td>1</td>\n",
       "      <td>0</td>\n",
       "    </tr>\n",
       "    <tr>\n",
       "      <td>4</td>\n",
       "      <td>5</td>\n",
       "      <td>0</td>\n",
       "      <td>3</td>\n",
       "      <td>Allen, Mr. William Henry</td>\n",
       "      <td>male</td>\n",
       "      <td>35.0</td>\n",
       "      <td>0</td>\n",
       "      <td>0</td>\n",
       "      <td>373450</td>\n",
       "      <td>8.0500</td>\n",
       "      <td>NaN</td>\n",
       "      <td>S</td>\n",
       "      <td>0</td>\n",
       "      <td>1</td>\n",
       "    </tr>\n",
       "  </tbody>\n",
       "</table>\n",
       "</div>"
      ],
      "text/plain": [
       "   PassengerId  Survived  Pclass  \\\n",
       "0            1         0       3   \n",
       "1            2         1       1   \n",
       "2            3         1       3   \n",
       "3            4         1       1   \n",
       "4            5         0       3   \n",
       "\n",
       "                                                Name     Sex   Age  SibSp  \\\n",
       "0                            Braund, Mr. Owen Harris    male  22.0      1   \n",
       "1  Cumings, Mrs. John Bradley (Florence Briggs Th...  female  38.0      1   \n",
       "2                             Heikkinen, Miss. Laina  female  26.0      0   \n",
       "3       Futrelle, Mrs. Jacques Heath (Lily May Peel)  female  35.0      1   \n",
       "4                           Allen, Mr. William Henry    male  35.0      0   \n",
       "\n",
       "   Parch            Ticket     Fare Cabin Embarked  relatives  not_alone  \n",
       "0      0         A/5 21171   7.2500   NaN        S          1          0  \n",
       "1      0          PC 17599  71.2833   C85        C          1          0  \n",
       "2      0  STON/O2. 3101282   7.9250   NaN        S          0          1  \n",
       "3      0            113803  53.1000  C123        S          1          0  \n",
       "4      0            373450   8.0500   NaN        S          0          1  "
      ]
     },
     "execution_count": 4,
     "metadata": {},
     "output_type": "execute_result"
    }
   ],
   "source": [
    "train_data.head()"
   ]
  },
  {
   "cell_type": "code",
   "execution_count": 5,
   "metadata": {},
   "outputs": [],
   "source": [
    "train_data=train_data.drop(['Cabin','PassengerId',\"Ticket\",\"Fare\"], axis=1)"
   ]
  },
  {
   "cell_type": "code",
   "execution_count": 6,
   "metadata": {},
   "outputs": [
    {
     "data": {
      "text/html": [
       "<div>\n",
       "<style scoped>\n",
       "    .dataframe tbody tr th:only-of-type {\n",
       "        vertical-align: middle;\n",
       "    }\n",
       "\n",
       "    .dataframe tbody tr th {\n",
       "        vertical-align: top;\n",
       "    }\n",
       "\n",
       "    .dataframe thead th {\n",
       "        text-align: right;\n",
       "    }\n",
       "</style>\n",
       "<table border=\"1\" class=\"dataframe\">\n",
       "  <thead>\n",
       "    <tr style=\"text-align: right;\">\n",
       "      <th></th>\n",
       "      <th>Survived</th>\n",
       "      <th>Pclass</th>\n",
       "      <th>Name</th>\n",
       "      <th>Sex</th>\n",
       "      <th>Age</th>\n",
       "      <th>SibSp</th>\n",
       "      <th>Parch</th>\n",
       "      <th>Embarked</th>\n",
       "      <th>relatives</th>\n",
       "      <th>not_alone</th>\n",
       "    </tr>\n",
       "  </thead>\n",
       "  <tbody>\n",
       "    <tr>\n",
       "      <td>0</td>\n",
       "      <td>0</td>\n",
       "      <td>3</td>\n",
       "      <td>Braund, Mr. Owen Harris</td>\n",
       "      <td>male</td>\n",
       "      <td>22.0</td>\n",
       "      <td>1</td>\n",
       "      <td>0</td>\n",
       "      <td>S</td>\n",
       "      <td>1</td>\n",
       "      <td>0</td>\n",
       "    </tr>\n",
       "    <tr>\n",
       "      <td>1</td>\n",
       "      <td>1</td>\n",
       "      <td>1</td>\n",
       "      <td>Cumings, Mrs. John Bradley (Florence Briggs Th...</td>\n",
       "      <td>female</td>\n",
       "      <td>38.0</td>\n",
       "      <td>1</td>\n",
       "      <td>0</td>\n",
       "      <td>C</td>\n",
       "      <td>1</td>\n",
       "      <td>0</td>\n",
       "    </tr>\n",
       "    <tr>\n",
       "      <td>2</td>\n",
       "      <td>1</td>\n",
       "      <td>3</td>\n",
       "      <td>Heikkinen, Miss. Laina</td>\n",
       "      <td>female</td>\n",
       "      <td>26.0</td>\n",
       "      <td>0</td>\n",
       "      <td>0</td>\n",
       "      <td>S</td>\n",
       "      <td>0</td>\n",
       "      <td>1</td>\n",
       "    </tr>\n",
       "    <tr>\n",
       "      <td>3</td>\n",
       "      <td>1</td>\n",
       "      <td>1</td>\n",
       "      <td>Futrelle, Mrs. Jacques Heath (Lily May Peel)</td>\n",
       "      <td>female</td>\n",
       "      <td>35.0</td>\n",
       "      <td>1</td>\n",
       "      <td>0</td>\n",
       "      <td>S</td>\n",
       "      <td>1</td>\n",
       "      <td>0</td>\n",
       "    </tr>\n",
       "    <tr>\n",
       "      <td>4</td>\n",
       "      <td>0</td>\n",
       "      <td>3</td>\n",
       "      <td>Allen, Mr. William Henry</td>\n",
       "      <td>male</td>\n",
       "      <td>35.0</td>\n",
       "      <td>0</td>\n",
       "      <td>0</td>\n",
       "      <td>S</td>\n",
       "      <td>0</td>\n",
       "      <td>1</td>\n",
       "    </tr>\n",
       "  </tbody>\n",
       "</table>\n",
       "</div>"
      ],
      "text/plain": [
       "   Survived  Pclass                                               Name  \\\n",
       "0         0       3                            Braund, Mr. Owen Harris   \n",
       "1         1       1  Cumings, Mrs. John Bradley (Florence Briggs Th...   \n",
       "2         1       3                             Heikkinen, Miss. Laina   \n",
       "3         1       1       Futrelle, Mrs. Jacques Heath (Lily May Peel)   \n",
       "4         0       3                           Allen, Mr. William Henry   \n",
       "\n",
       "      Sex   Age  SibSp  Parch Embarked  relatives  not_alone  \n",
       "0    male  22.0      1      0        S          1          0  \n",
       "1  female  38.0      1      0        C          1          0  \n",
       "2  female  26.0      0      0        S          0          1  \n",
       "3  female  35.0      1      0        S          1          0  \n",
       "4    male  35.0      0      0        S          0          1  "
      ]
     },
     "execution_count": 6,
     "metadata": {},
     "output_type": "execute_result"
    }
   ],
   "source": [
    "train_data.head()"
   ]
  },
  {
   "cell_type": "code",
   "execution_count": 7,
   "metadata": {},
   "outputs": [],
   "source": [
    "data = [train_data]\n",
    "for dataset in data:\n",
    "    dataset['Embarked'].fillna(dataset['Embarked'].mode()[0],inplace=True)\n",
    "    Embarked = np.zeros(len(dataset))\n",
    "    Embarked[dataset['Embarked']== 'C'] = 1\n",
    "    Embarked[dataset['Embarked']== 'Q'] = 2\n",
    "    Embarked[dataset['Embarked']== 'S'] = 3\n",
    "    dataset['Embarked'] = Embarked"
   ]
  },
  {
   "cell_type": "code",
   "execution_count": 8,
   "metadata": {},
   "outputs": [],
   "source": [
    "train_data['Age'].fillna(train_data['Age'].median(), inplace = True)"
   ]
  },
  {
   "cell_type": "code",
   "execution_count": 9,
   "metadata": {},
   "outputs": [
    {
     "name": "stdout",
     "output_type": "stream",
     "text": [
      "Train columns with null values:\n",
      " Survived     0\n",
      "Pclass       0\n",
      "Name         0\n",
      "Sex          0\n",
      "Age          0\n",
      "SibSp        0\n",
      "Parch        0\n",
      "Embarked     0\n",
      "relatives    0\n",
      "not_alone    0\n",
      "dtype: int64\n",
      "----------\n"
     ]
    }
   ],
   "source": [
    "print('Train columns with null values:\\n', train_data.isnull().sum())\n",
    "print(\"-\" * 10)"
   ]
  },
  {
   "cell_type": "code",
   "execution_count": 10,
   "metadata": {},
   "outputs": [
    {
     "data": {
      "text/html": [
       "<div>\n",
       "<style scoped>\n",
       "    .dataframe tbody tr th:only-of-type {\n",
       "        vertical-align: middle;\n",
       "    }\n",
       "\n",
       "    .dataframe tbody tr th {\n",
       "        vertical-align: top;\n",
       "    }\n",
       "\n",
       "    .dataframe thead th {\n",
       "        text-align: right;\n",
       "    }\n",
       "</style>\n",
       "<table border=\"1\" class=\"dataframe\">\n",
       "  <thead>\n",
       "    <tr style=\"text-align: right;\">\n",
       "      <th></th>\n",
       "      <th>Survived</th>\n",
       "      <th>Pclass</th>\n",
       "      <th>Name</th>\n",
       "      <th>Sex</th>\n",
       "      <th>Age</th>\n",
       "      <th>SibSp</th>\n",
       "      <th>Parch</th>\n",
       "      <th>Embarked</th>\n",
       "      <th>relatives</th>\n",
       "      <th>not_alone</th>\n",
       "    </tr>\n",
       "  </thead>\n",
       "  <tbody>\n",
       "    <tr>\n",
       "      <td>0</td>\n",
       "      <td>0</td>\n",
       "      <td>3</td>\n",
       "      <td>Braund, Mr. Owen Harris</td>\n",
       "      <td>male</td>\n",
       "      <td>22.0</td>\n",
       "      <td>1</td>\n",
       "      <td>0</td>\n",
       "      <td>3.0</td>\n",
       "      <td>1</td>\n",
       "      <td>0</td>\n",
       "    </tr>\n",
       "    <tr>\n",
       "      <td>1</td>\n",
       "      <td>1</td>\n",
       "      <td>1</td>\n",
       "      <td>Cumings, Mrs. John Bradley (Florence Briggs Th...</td>\n",
       "      <td>female</td>\n",
       "      <td>38.0</td>\n",
       "      <td>1</td>\n",
       "      <td>0</td>\n",
       "      <td>1.0</td>\n",
       "      <td>1</td>\n",
       "      <td>0</td>\n",
       "    </tr>\n",
       "    <tr>\n",
       "      <td>2</td>\n",
       "      <td>1</td>\n",
       "      <td>3</td>\n",
       "      <td>Heikkinen, Miss. Laina</td>\n",
       "      <td>female</td>\n",
       "      <td>26.0</td>\n",
       "      <td>0</td>\n",
       "      <td>0</td>\n",
       "      <td>3.0</td>\n",
       "      <td>0</td>\n",
       "      <td>1</td>\n",
       "    </tr>\n",
       "    <tr>\n",
       "      <td>3</td>\n",
       "      <td>1</td>\n",
       "      <td>1</td>\n",
       "      <td>Futrelle, Mrs. Jacques Heath (Lily May Peel)</td>\n",
       "      <td>female</td>\n",
       "      <td>35.0</td>\n",
       "      <td>1</td>\n",
       "      <td>0</td>\n",
       "      <td>3.0</td>\n",
       "      <td>1</td>\n",
       "      <td>0</td>\n",
       "    </tr>\n",
       "    <tr>\n",
       "      <td>4</td>\n",
       "      <td>0</td>\n",
       "      <td>3</td>\n",
       "      <td>Allen, Mr. William Henry</td>\n",
       "      <td>male</td>\n",
       "      <td>35.0</td>\n",
       "      <td>0</td>\n",
       "      <td>0</td>\n",
       "      <td>3.0</td>\n",
       "      <td>0</td>\n",
       "      <td>1</td>\n",
       "    </tr>\n",
       "  </tbody>\n",
       "</table>\n",
       "</div>"
      ],
      "text/plain": [
       "   Survived  Pclass                                               Name  \\\n",
       "0         0       3                            Braund, Mr. Owen Harris   \n",
       "1         1       1  Cumings, Mrs. John Bradley (Florence Briggs Th...   \n",
       "2         1       3                             Heikkinen, Miss. Laina   \n",
       "3         1       1       Futrelle, Mrs. Jacques Heath (Lily May Peel)   \n",
       "4         0       3                           Allen, Mr. William Henry   \n",
       "\n",
       "      Sex   Age  SibSp  Parch  Embarked  relatives  not_alone  \n",
       "0    male  22.0      1      0       3.0          1          0  \n",
       "1  female  38.0      1      0       1.0          1          0  \n",
       "2  female  26.0      0      0       3.0          0          1  \n",
       "3  female  35.0      1      0       3.0          1          0  \n",
       "4    male  35.0      0      0       3.0          0          1  "
      ]
     },
     "execution_count": 10,
     "metadata": {},
     "output_type": "execute_result"
    }
   ],
   "source": [
    "train_data.head()"
   ]
  },
  {
   "cell_type": "code",
   "execution_count": 12,
   "metadata": {},
   "outputs": [],
   "source": [
    "data = [train_data]\n",
    "titles = {\"Mr\": 1, \"Miss\": 2, \"Mrs\": 3, \"Master\": 4, \"Rare\": 5}\n",
    "\n",
    "for dataset in data:\n",
    "    # extract titles\n",
    "    dataset['Title'] = dataset.Name.str.extract(' ([A-Za-z]+)\\.', expand=False)\n",
    "    # replace titles with a more common title or as Rare\n",
    "    dataset['Title'] = dataset['Title'].replace(['Lady', 'Countess','Capt', 'Col','Don', 'Dr',\\\n",
    "                                            'Major', 'Rev', 'Sir', 'Jonkheer', 'Dona'], 'Rare')\n",
    "    dataset['Title'] = dataset['Title'].replace('Mlle', 'Miss')\n",
    "    dataset['Title'] = dataset['Title'].replace('Ms', 'Miss')\n",
    "    dataset['Title'] = dataset['Title'].replace('Mme', 'Mrs')\n",
    "    # convert titles into numbers\n",
    "    dataset['Title'] = dataset['Title'].map(titles)\n",
    "    # filling NaN with 0, to get safe\n",
    "    dataset['Title'] = dataset['Title'].fillna(0)\n",
    "train_data = train_data.drop(['Name'], axis=1)"
   ]
  },
  {
   "cell_type": "code",
   "execution_count": 13,
   "metadata": {},
   "outputs": [],
   "source": [
    "data = [train_data]\n",
    "for dataset in data:\n",
    "    sex = np.zeros(len(dataset))\n",
    "    sex[dataset['Sex']== 'male'] = 1\n",
    "    sex[dataset['Sex']== 'female'] = 0\n",
    "    dataset['Sex'] = sex"
   ]
  },
  {
   "cell_type": "code",
   "execution_count": 14,
   "metadata": {},
   "outputs": [
    {
     "data": {
      "text/html": [
       "<div>\n",
       "<style scoped>\n",
       "    .dataframe tbody tr th:only-of-type {\n",
       "        vertical-align: middle;\n",
       "    }\n",
       "\n",
       "    .dataframe tbody tr th {\n",
       "        vertical-align: top;\n",
       "    }\n",
       "\n",
       "    .dataframe thead th {\n",
       "        text-align: right;\n",
       "    }\n",
       "</style>\n",
       "<table border=\"1\" class=\"dataframe\">\n",
       "  <thead>\n",
       "    <tr style=\"text-align: right;\">\n",
       "      <th></th>\n",
       "      <th>Survived</th>\n",
       "      <th>Pclass</th>\n",
       "      <th>Sex</th>\n",
       "      <th>Age</th>\n",
       "      <th>SibSp</th>\n",
       "      <th>Parch</th>\n",
       "      <th>Embarked</th>\n",
       "      <th>relatives</th>\n",
       "      <th>not_alone</th>\n",
       "      <th>Title</th>\n",
       "    </tr>\n",
       "  </thead>\n",
       "  <tbody>\n",
       "    <tr>\n",
       "      <td>0</td>\n",
       "      <td>0</td>\n",
       "      <td>3</td>\n",
       "      <td>1.0</td>\n",
       "      <td>22.0</td>\n",
       "      <td>1</td>\n",
       "      <td>0</td>\n",
       "      <td>3.0</td>\n",
       "      <td>1</td>\n",
       "      <td>0</td>\n",
       "      <td>1</td>\n",
       "    </tr>\n",
       "    <tr>\n",
       "      <td>1</td>\n",
       "      <td>1</td>\n",
       "      <td>1</td>\n",
       "      <td>0.0</td>\n",
       "      <td>38.0</td>\n",
       "      <td>1</td>\n",
       "      <td>0</td>\n",
       "      <td>1.0</td>\n",
       "      <td>1</td>\n",
       "      <td>0</td>\n",
       "      <td>3</td>\n",
       "    </tr>\n",
       "    <tr>\n",
       "      <td>2</td>\n",
       "      <td>1</td>\n",
       "      <td>3</td>\n",
       "      <td>0.0</td>\n",
       "      <td>26.0</td>\n",
       "      <td>0</td>\n",
       "      <td>0</td>\n",
       "      <td>3.0</td>\n",
       "      <td>0</td>\n",
       "      <td>1</td>\n",
       "      <td>2</td>\n",
       "    </tr>\n",
       "    <tr>\n",
       "      <td>3</td>\n",
       "      <td>1</td>\n",
       "      <td>1</td>\n",
       "      <td>0.0</td>\n",
       "      <td>35.0</td>\n",
       "      <td>1</td>\n",
       "      <td>0</td>\n",
       "      <td>3.0</td>\n",
       "      <td>1</td>\n",
       "      <td>0</td>\n",
       "      <td>3</td>\n",
       "    </tr>\n",
       "    <tr>\n",
       "      <td>4</td>\n",
       "      <td>0</td>\n",
       "      <td>3</td>\n",
       "      <td>1.0</td>\n",
       "      <td>35.0</td>\n",
       "      <td>0</td>\n",
       "      <td>0</td>\n",
       "      <td>3.0</td>\n",
       "      <td>0</td>\n",
       "      <td>1</td>\n",
       "      <td>1</td>\n",
       "    </tr>\n",
       "  </tbody>\n",
       "</table>\n",
       "</div>"
      ],
      "text/plain": [
       "   Survived  Pclass  Sex   Age  SibSp  Parch  Embarked  relatives  not_alone  \\\n",
       "0         0       3  1.0  22.0      1      0       3.0          1          0   \n",
       "1         1       1  0.0  38.0      1      0       1.0          1          0   \n",
       "2         1       3  0.0  26.0      0      0       3.0          0          1   \n",
       "3         1       1  0.0  35.0      1      0       3.0          1          0   \n",
       "4         0       3  1.0  35.0      0      0       3.0          0          1   \n",
       "\n",
       "   Title  \n",
       "0      1  \n",
       "1      3  \n",
       "2      2  \n",
       "3      3  \n",
       "4      1  "
      ]
     },
     "execution_count": 14,
     "metadata": {},
     "output_type": "execute_result"
    }
   ],
   "source": [
    "train_data.head()"
   ]
  },
  {
   "cell_type": "code",
   "execution_count": 15,
   "metadata": {},
   "outputs": [],
   "source": [
    "X = train_data.drop(\"Survived\", axis=1)\n",
    "y= train_data[\"Survived\"]\n",
    "\n",
    "X_train, X_test, Y_train, Y_test = train_test_split(X, y,test_size = 0.20)"
   ]
  },
  {
   "cell_type": "code",
   "execution_count": 16,
   "metadata": {},
   "outputs": [],
   "source": [
    "scaler = MinMaxScaler(feature_range=(0, 1))\n",
    "X = scaler.fit_transform(X)"
   ]
  },
  {
   "cell_type": "code",
   "execution_count": 79,
   "metadata": {},
   "outputs": [
    {
     "name": "stdout",
     "output_type": "stream",
     "text": [
      "Decision Tree Train score for 1 depth = 77.81\n",
      "Decision Tree Test score for 1 depth =  79.89\n",
      "AUC SCORE for 1 depth = 78.84 \n",
      "\n",
      "Decision Tree Train score for 2 depth = 78.65\n",
      "Decision Tree Test score for 2 depth =  79.89\n",
      "AUC SCORE for 2 depth = 71.66 \n",
      "\n",
      "Decision Tree Train score for 3 depth = 82.44\n",
      "Decision Tree Test score for 3 depth =  86.03\n",
      "AUC SCORE for 3 depth = 83.39 \n",
      "\n",
      "Decision Tree Train score for 4 depth = 83.57\n",
      "Decision Tree Test score for 4 depth =  84.36\n",
      "AUC SCORE for 4 depth = 82.15 \n",
      "\n",
      "Decision Tree Train score for 5 depth = 84.55\n",
      "Decision Tree Test score for 5 depth =  83.8\n",
      "AUC SCORE for 5 depth = 81.28 \n",
      "\n",
      "Decision Tree Train score for 6 depth = 86.94\n",
      "Decision Tree Test score for 6 depth =  82.12\n",
      "AUC SCORE for 6 depth = 78.7 \n",
      "\n",
      "Decision Tree Train score for 7 depth = 87.64\n",
      "Decision Tree Test score for 7 depth =  81.56\n",
      "AUC SCORE for 7 depth = 77.84 \n",
      "\n",
      "Decision Tree Train score for 8 depth = 89.61\n",
      "Decision Tree Test score for 8 depth =  81.56\n",
      "AUC SCORE for 8 depth = 79.18 \n",
      "\n",
      "Decision Tree Train score for 9 depth = 91.15\n",
      "Decision Tree Test score for 9 depth =  82.12\n",
      "AUC SCORE for 9 depth = 79.15 \n",
      "\n",
      "Train Scores list: [77.81, 78.65, 82.44, 83.57, 84.55, 86.94, 87.64, 89.61, 91.15]\n",
      "Test Scores list: [79.89, 79.89, 86.03, 84.36, 83.8, 82.12, 81.56, 81.56, 82.12]\n",
      "AUC list: [78.84, 71.66, 83.39, 82.15, 81.28, 78.7, 77.84, 79.18, 79.15]\n"
     ]
    }
   ],
   "source": [
    "\"\"\"TEK BİR KARAR AĞACI İLE ÇÖZÜM\"\"\"\n",
    "\n",
    "dtc_scores = []\n",
    "dtc_scores_test = []\n",
    "dtc_auc_scores = []\n",
    "\n",
    "for x in range(1,10):   \n",
    "    decision_tree = tree.DecisionTreeClassifier(criterion=\"gini\",max_depth=x)\n",
    "    decision_tree.fit(X_train, Y_train)\n",
    "    Y_pred=decision_tree.predict(X_test)\n",
    "    \n",
    "    acc_dtc = round(decision_tree.score(X_train, Y_train) * 100, 2)\n",
    "    dtc_auc_score = round(roc_auc_score(Y_test, Y_pred) * 100, 2)\n",
    "    acc_dtctest = round(decision_tree.score(X_test, Y_test) * 100, 2)\n",
    "    \n",
    "    print(\"Decision Tree Train score for {} depth =\".format(x) ,acc_dtc)\n",
    "    print(\"Decision Tree Test score for {} depth = \".format(x) ,acc_dtctest)\n",
    "    print(\"AUC SCORE for {} depth =\".format(x)  ,dtc_auc_score , \"\\n\")\n",
    "    \n",
    "    dtc_scores.append(acc_dtc)\n",
    "    dtc_auc_scores.append(dtc_auc_score)\n",
    "    dtc_scores_test.append(acc_dtctest)\n",
    "    \n",
    "\n",
    "print(\"Train Scores list:\", dtc_scores)\n",
    "print(\"Test Scores list:\",dtc_scores_test)\n",
    "print(\"AUC list:\",dtc_auc_scores)"
   ]
  },
  {
   "cell_type": "code",
   "execution_count": 73,
   "metadata": {},
   "outputs": [
    {
     "data": {
      "image/png": "[encoded data removed]",
      "text/plain": [
       "<Figure size 432x288 with 1 Axes>"
      ]
     },
     "metadata": {
      "needs_background": "light"
     },
     "output_type": "display_data"
    }
   ],
   "source": [
    "ax = sns.barplot(x= list(range(1,10)) , y= dtc_scores)"
   ]
  },
  {
   "cell_type": "code",
   "execution_count": 83,
   "metadata": {},
   "outputs": [
    {
     "data": {
      "text/plain": [
       "<matplotlib.axes._subplots.AxesSubplot at 0x7fc95ffb2898>"
      ]
     },
     "execution_count": 83,
     "metadata": {},
     "output_type": "execute_result"
    },
    {
     "data": {
      "image/png": "[encoded data removed]",
      "text/plain": [
       "<Figure size 432x288 with 1 Axes>"
      ]
     },
     "metadata": {},
     "output_type": "display_data"
    }
   ],
   "source": [
    "sns.set(style=\"darkgrid\")\n",
    "sns.lineplot(x= list(range(1,10)) , y= dtc_scores)"
   ]
  },
  {
   "cell_type": "code",
   "execution_count": 74,
   "metadata": {},
   "outputs": [
    {
     "data": {
      "image/png": "[encoded data removed]",
      "text/plain": [
       "<Figure size 432x288 with 1 Axes>"
      ]
     },
     "metadata": {
      "needs_background": "light"
     },
     "output_type": "display_data"
    }
   ],
   "source": [
    "ax = sns.barplot(x= list(range(1,10)) , y= dtc_scores_test)"
   ]
  },
  {
   "cell_type": "code",
   "execution_count": 84,
   "metadata": {},
   "outputs": [
    {
     "data": {
      "text/plain": [
       "<matplotlib.axes._subplots.AxesSubplot at 0x7fc95ff059e8>"
      ]
     },
     "execution_count": 84,
     "metadata": {},
     "output_type": "execute_result"
    },
    {
     "data": {
      "image/png": "[encoded data removed]",
      "text/plain": [
       "<Figure size 432x288 with 1 Axes>"
      ]
     },
     "metadata": {},
     "output_type": "display_data"
    }
   ],
   "source": [
    "sns.set(style=\"darkgrid\")\n",
    "sns.lineplot(x= list(range(1,10)) , y= dtc_scores_test)"
   ]
  },
  {
   "cell_type": "code",
   "execution_count": 80,
   "metadata": {},
   "outputs": [
    {
     "data": {
      "image/png": "[encoded data removed]",
      "text/plain": [
       "<Figure size 432x288 with 1 Axes>"
      ]
     },
     "metadata": {
      "needs_background": "light"
     },
     "output_type": "display_data"
    }
   ],
   "source": [
    "ax = sns.barplot(x= list(range(1,10)) , y= dtc_auc_scores)"
   ]
  },
  {
   "cell_type": "code",
   "execution_count": 85,
   "metadata": {},
   "outputs": [
    {
     "data": {
      "text/plain": [
       "<matplotlib.axes._subplots.AxesSubplot at 0x7fc96467ee10>"
      ]
     },
     "execution_count": 85,
     "metadata": {},
     "output_type": "execute_result"
    },
    {
     "data": {
      "image/png": "[encoded data removed]",
      "text/plain": [
       "<Figure size 432x288 with 1 Axes>"
      ]
     },
     "metadata": {},
     "output_type": "display_data"
    }
   ],
   "source": [
    "sns.set(style=\"darkgrid\")\n",
    "sns.lineplot(x= list(range(1,10)) , y= dtc_auc_scores)"
   ]
  },
  {
   "cell_type": "code",
   "execution_count": 54,
   "metadata": {},
   "outputs": [
    {
     "name": "stdout",
     "output_type": "stream",
     "text": [
      "Bagging Decision Tree Train score for 5 samples = 73.03\n",
      "Bagging Decision Tree Test score for 5 samples =  76.54\n",
      "AUC SCORE for 5 samples = 68.28 \n",
      "\n",
      "Bagging Decision Tree Train score for 10 samples = 76.54\n",
      "Bagging Decision Tree Test score for 10 samples =  80.45\n",
      "AUC SCORE for 10 samples = 74.32 \n",
      "\n",
      "Bagging Decision Tree Train score for 25 samples = 81.46\n",
      "Bagging Decision Tree Test score for 25 samples =  82.12\n",
      "AUC SCORE for 25 samples = 80.94 \n",
      "\n",
      "Bagging Decision Tree Train score for 50 samples = 83.15\n",
      "Bagging Decision Tree Test score for 50 samples =  86.03\n",
      "AUC SCORE for 50 samples = 82.49 \n",
      "\n",
      "Bagging Decision Tree Train score for 100 samples = 84.69\n",
      "Bagging Decision Tree Test score for 100 samples =  85.47\n",
      "AUC SCORE for 100 samples = 82.52 \n",
      "\n",
      "Bagging Decision Tree Train score for 250 samples = 89.04\n",
      "Bagging Decision Tree Test score for 250 samples =  82.68\n",
      "AUC SCORE for 250 samples = 80.01 \n",
      "\n",
      "Bagging Decision Tree Train score for 500 samples = 92.84\n",
      "Bagging Decision Tree Test score for 500 samples =  81.56\n",
      "AUC SCORE for 500 samples = 79.18 \n",
      "\n",
      "Train Scores list: [73.03, 76.54, 81.46, 83.15, 84.69, 89.04, 92.84]\n",
      "Test Scores list: [76.54, 80.45, 82.12, 86.03, 85.47, 82.68, 81.56]\n",
      "AUC list: [68.28, 74.32, 80.94, 82.49, 82.52, 80.01, 79.18]\n"
     ]
    }
   ],
   "source": [
    "\"\"\"BAGGING KULLANARAK YAPILAN KARAR AĞACI ÇÖZÜMÜ\"\"\"\n",
    "\n",
    "samples = [5,10,25,50,100,250,500]\n",
    "scores = []\n",
    "scores_test = []\n",
    "auc_scores = []\n",
    "\n",
    "for x in samples:   \n",
    "    bg = BaggingClassifier(DecisionTreeClassifier(),max_samples=x, \n",
    "                       max_features=1.0, n_estimators=25, \n",
    "                       bootstrap = True)\n",
    "    bg.fit(X_train,Y_train)\n",
    "    Y_pred = bg.predict(X_test)\n",
    "\n",
    "    acc_bgdtc = round(bg.score(X_train, Y_train) * 100, 2)\n",
    "    bg_auc_score = round(roc_auc_score(Y_test, Y_pred) * 100, 2)\n",
    "    acc_bgdtctest = round(bg.score(X_test, Y_test) * 100, 2)\n",
    "\n",
    "    print(\"Bagging Decision Tree Train score for {} samples =\".format(x) ,acc_bgdtc)\n",
    "    print(\"Bagging Decision Tree Test score for {} samples = \".format(x) ,acc_bgdtctest)\n",
    "    print(\"AUC SCORE for {} samples =\".format(x)  ,bg_auc_score , \"\\n\")\n",
    "    scores.append(acc_bgdtc)\n",
    "    auc_scores.append(bg_auc_score)\n",
    "    scores_test.append(acc_bgdtctest)\n",
    "    \n",
    "\n",
    "print(\"Train Scores list:\", scores)\n",
    "print(\"Test Scores list:\",scores_test)\n",
    "print(\"AUC list:\",auc_scores)"
   ]
  },
  {
   "cell_type": "code",
   "execution_count": 42,
   "metadata": {},
   "outputs": [
    {
     "data": {
      "image/png": "[encoded data removed]",
      "text/plain": [
       "<Figure size 432x288 with 1 Axes>"
      ]
     },
     "metadata": {
      "needs_background": "light"
     },
     "output_type": "display_data"
    }
   ],
   "source": [
    "ax = sns.barplot(x= samples , y= scores)"
   ]
  },
  {
   "cell_type": "code",
   "execution_count": 55,
   "metadata": {},
   "outputs": [
    {
     "data": {
      "image/png": "[encoded data removed]",
      "text/plain": [
       "<Figure size 432x288 with 1 Axes>"
      ]
     },
     "metadata": {
      "needs_background": "light"
     },
     "output_type": "display_data"
    }
   ],
   "source": [
    "ax = sns.barplot(x= samples , y= scores_test)"
   ]
  },
  {
   "cell_type": "code",
   "execution_count": 56,
   "metadata": {},
   "outputs": [
    {
     "data": {
      "image/png": "[encoded data removed]",
      "text/plain": [
       "<Figure size 432x288 with 1 Axes>"
      ]
     },
     "metadata": {
      "needs_background": "light"
     },
     "output_type": "display_data"
    }
   ],
   "source": [
    "ax = sns.barplot(x= samples , y= auc_scores)"
   ]
  },
  {
   "cell_type": "code",
   "execution_count": 112,
   "metadata": {},
   "outputs": [
    {
     "name": "stdout",
     "output_type": "stream",
     "text": [
      "Random Forest Train score for 5 estimators = 80.48\n",
      "Random Forest Test score for 5 estimators =  82.12\n",
      "AUC SCORE for 5 estimators = 78.7 \n",
      "\n",
      "Random Forest Train score for 10 estimators = 81.74\n",
      "Random Forest Test score for 10 estimators =  85.47\n",
      "AUC SCORE for 10 estimators = 82.52 \n",
      "\n",
      "Random Forest Train score for 25 estimators = 82.72\n",
      "Random Forest Test score for 25 estimators =  84.92\n",
      "AUC SCORE for 25 estimators = 82.56 \n",
      "\n",
      "Random Forest Train score for 30 estimators = 82.02\n",
      "Random Forest Test score for 30 estimators =  83.8\n",
      "AUC SCORE for 30 estimators = 81.73 \n",
      "\n",
      "Random Forest Train score for 40 estimators = 82.16\n",
      "Random Forest Test score for 40 estimators =  84.36\n",
      "AUC SCORE for 40 estimators = 82.15 \n",
      "\n",
      "Random Forest Train score for 50 estimators = 82.44\n",
      "Random Forest Test score for 50 estimators =  84.36\n",
      "AUC SCORE for 50 estimators = 81.7 \n",
      "\n",
      "Train Scores list: [80.48, 81.74, 82.72, 82.02, 82.16, 82.44]\n",
      "Test Scores list: [82.12, 85.47, 84.92, 83.8, 84.36, 84.36]\n",
      "AUC list: [78.7, 82.52, 82.56, 81.73, 82.15, 81.7]\n"
     ]
    }
   ],
   "source": [
    "\"\"\"RANDOM FOREST ÇÖZÜMÜ\"\"\"\n",
    "estimators = [5,10,25,30,40,50]\n",
    "rfc_scores = []\n",
    "rfc_scores_test = []\n",
    "rfc_auc_scores = []\n",
    "\n",
    "for x in estimators:   \n",
    "    rf = RandomForestClassifier(criterion='gini',n_estimators=x,bootstrap= False,\n",
    "                                max_depth=3,max_features='auto')\n",
    "    rf.fit(X_train,Y_train)\n",
    "    \n",
    "    Y_pred = rf.predict(X_test)\n",
    "\n",
    "    acc_rf = round(rf.score(X_train, Y_train) * 100, 2)\n",
    "    rf_auc_score = round(roc_auc_score(Y_test, Y_pred) * 100, 2)\n",
    "    acc_rftest = round(rf.score(X_test, Y_test) * 100, 2)\n",
    "\n",
    "    print(\"Random Forest Train score for {} estimators =\".format(x) ,acc_rf)\n",
    "    print(\"Random Forest Test score for {} estimators = \".format(x) ,acc_rftest)\n",
    "    print(\"AUC SCORE for {} estimators =\".format(x)  ,rf_auc_score , \"\\n\")\n",
    "    rfc_scores.append(acc_rf)\n",
    "    rfc_auc_scores.append(rf_auc_score)\n",
    "    rfc_scores_test.append(acc_rftest)\n",
    "    \n",
    "print(\"Train Scores list:\", rfc_scores)\n",
    "print(\"Test Scores list:\",rfc_scores_test)\n",
    "print(\"AUC list:\",rfc_auc_scores)"
   ]
  },
  {
   "cell_type": "code",
   "execution_count": 109,
   "metadata": {},
   "outputs": [
    {
     "data": {
      "text/plain": [
       "<matplotlib.axes._subplots.AxesSubplot at 0x7fc96515f080>"
      ]
     },
     "execution_count": 109,
     "metadata": {},
     "output_type": "execute_result"
    },
    {
     "data": {
      "image/png": "[encoded data removed]",
      "text/plain": [
       "<Figure size 432x288 with 1 Axes>"
      ]
     },
     "metadata": {},
     "output_type": "display_data"
    }
   ],
   "source": [
    "sns.set(style=\"darkgrid\")\n",
    "sns.lineplot(x= estimators , y= rfc_scores)"
   ]
  },
  {
   "cell_type": "code",
   "execution_count": 110,
   "metadata": {},
   "outputs": [
    {
     "data": {
      "image/png": "[encoded data removed]",
      "text/plain": [
       "<Figure size 432x288 with 1 Axes>"
      ]
     },
     "metadata": {},
     "output_type": "display_data"
    }
   ],
   "source": [
    "ax = sns.lineplot(x= estimators , y= rfc_scores_test)"
   ]
  },
  {
   "cell_type": "code",
   "execution_count": 111,
   "metadata": {},
   "outputs": [
    {
     "data": {
      "image/png": "[encoded data removed]",
      "text/plain": [
       "<Figure size 432x288 with 1 Axes>"
      ]
     },
     "metadata": {},
     "output_type": "display_data"
    }
   ],
   "source": [
    "ax = sns.lineplot(x= estimators , y= rfc_auc_scores)"
   ]
  },
  {
   "cell_type": "code",
   "execution_count": 137,
   "metadata": {},
   "outputs": [
    {
     "name": "stdout",
     "output_type": "stream",
     "text": [
      "ADABOOST Random Forest Train score for 5 estimators = 93.96\n",
      "ADABOOST Random Forest Test score for 5 estimators =  83.24\n",
      "AUC SCORE for 5 estimators = 80.87 \n",
      "\n",
      "ADABOOST Random Forest Train score for 10 estimators = 93.96\n",
      "ADABOOST Random Forest Test score for 10 estimators =  82.68\n",
      "AUC SCORE for 10 estimators = 80.46 \n",
      "\n",
      "ADABOOST Random Forest Train score for 25 estimators = 93.96\n",
      "ADABOOST Random Forest Test score for 25 estimators =  82.68\n",
      "AUC SCORE for 25 estimators = 80.01 \n",
      "\n",
      "ADABOOST Random Forest Train score for 30 estimators = 93.96\n",
      "ADABOOST Random Forest Test score for 30 estimators =  83.8\n",
      "AUC SCORE for 30 estimators = 81.28 \n",
      "\n",
      "ADABOOST Random Forest Train score for 40 estimators = 93.96\n",
      "ADABOOST Random Forest Test score for 40 estimators =  83.8\n",
      "AUC SCORE for 40 estimators = 81.28 \n",
      "\n",
      "ADABOOST Random Forest Train score for 50 estimators = 93.96\n",
      "ADABOOST Random Forest Test score for 50 estimators =  83.24\n",
      "AUC SCORE for 50 estimators = 80.87 \n",
      "\n",
      "ADABOOST Random Forest Train score for 100 estimators = 93.96\n",
      "ADABOOST Random Forest Test score for 100 estimators =  83.8\n",
      "AUC SCORE for 100 estimators = 81.28 \n",
      "\n",
      "ADABOOST Random Forest Train score for 250 estimators = 93.96\n",
      "ADABOOST Random Forest Test score for 250 estimators =  82.68\n",
      "AUC SCORE for 250 estimators = 80.46 \n",
      "\n",
      "ADABOOST Random Forest Train score for 500 estimators = 93.96\n",
      "ADABOOST Random Forest Test score for 500 estimators =  82.68\n",
      "AUC SCORE for 500 estimators = 80.46 \n",
      "\n",
      "ADABOOST Random Forest Train score for 1000 estimators = 93.96\n",
      "ADABOOST Random Forest Test score for 1000 estimators =  81.01\n",
      "AUC SCORE for 1000 estimators = 79.22 \n",
      "\n",
      "Train Scores list: [93.96, 93.96, 93.96, 93.96, 93.96, 93.96, 93.96, 93.96, 93.96, 93.96]\n",
      "Test Scores list: [83.24, 82.68, 82.68, 83.8, 83.8, 83.24, 83.8, 82.68, 82.68, 81.01]\n",
      "AUC list: [80.87, 80.46, 80.01, 81.28, 81.28, 80.87, 81.28, 80.46, 80.46, 79.22]\n"
     ]
    }
   ],
   "source": [
    "\"\"\"ADABOOST\"\"\"\n",
    "estimators = [5,10,25,30,40,50,100,250,500,1000]\n",
    "adb_rfc_scores = []\n",
    "adb_rfc_scores_test = []\n",
    "adb_rfc_auc_scores = []\n",
    "for x in estimators:\n",
    "    ad=AdaBoostClassifier(RandomForestClassifier(), n_estimators=x)\n",
    "    ad.fit(X_train,Y_train)\n",
    "    Y_pred = ad.predict(X_test)\n",
    "\n",
    "    acc_adb_rfc = round(ad.score(X_train, Y_train) * 100, 2)\n",
    "    adb_rfc_auc_score = round(roc_auc_score(Y_test, Y_pred) * 100, 2)\n",
    "    acc_adb_rfctest = round(ad.score(X_test, Y_test) * 100, 2)\n",
    "\n",
    "    print(\"ADABOOST Random Forest Train score for {} estimators =\".format(x) ,acc_adb_rfc)\n",
    "    print(\"ADABOOST Random Forest Test score for {} estimators = \".format(x) ,acc_adb_rfctest)\n",
    "    print(\"AUC SCORE for {} estimators =\".format(x)  ,adb_rfc_auc_score , \"\\n\")\n",
    "    adb_rfc_scores.append(acc_adb_rfc)\n",
    "    adb_rfc_auc_scores.append(adb_rfc_auc_score)\n",
    "    adb_rfc_scores_test.append(acc_adb_rfctest)\n",
    "    \n",
    "print(\"Train Scores list:\", adb_rfc_scores)\n",
    "print(\"Test Scores list:\",adb_rfc_scores_test)\n",
    "print(\"AUC list:\",adb_rfc_auc_scores)\n"
   ]
  },
  {
   "cell_type": "code",
   "execution_count": 138,
   "metadata": {},
   "outputs": [
    {
     "data": {
      "text/plain": [
       "<matplotlib.axes._subplots.AxesSubplot at 0x7fc9653e5e48>"
      ]
     },
     "execution_count": 138,
     "metadata": {},
     "output_type": "execute_result"
    },
    {
     "data": {
      "image/png": "[encoded data removed]",
      "text/plain": [
       "<Figure size 432x288 with 1 Axes>"
      ]
     },
     "metadata": {},
     "output_type": "display_data"
    }
   ],
   "source": [
    "sns.lineplot(x= estimators , y= adb_rfc_scores)"
   ]
  },
  {
   "cell_type": "code",
   "execution_count": 140,
   "metadata": {},
   "outputs": [
    {
     "data": {
      "text/plain": [
       "<matplotlib.axes._subplots.AxesSubplot at 0x7fc95f92e978>"
      ]
     },
     "execution_count": 140,
     "metadata": {},
     "output_type": "execute_result"
    },
    {
     "data": {
      "image/png": "[encoded data removed]",
      "text/plain": [
       "<Figure size 432x288 with 1 Axes>"
      ]
     },
     "metadata": {},
     "output_type": "display_data"
    }
   ],
   "source": [
    "sns.barplot(x= estimators , y= adb_rfc_scores_test)"
   ]
  },
  {
   "cell_type": "code",
   "execution_count": 139,
   "metadata": {},
   "outputs": [
    {
     "data": {
      "text/plain": [
       "<matplotlib.axes._subplots.AxesSubplot at 0x7fc95f94dc50>"
      ]
     },
     "execution_count": 139,
     "metadata": {},
     "output_type": "execute_result"
    },
    {
     "data": {
      "image/png": "[encoded data removed]",
      "text/plain": [
       "<Figure size 432x288 with 1 Axes>"
      ]
     },
     "metadata": {},
     "output_type": "display_data"
    }
   ],
   "source": [
    "sns.lineplot(x= estimators , y= adb_rfc_scores_test)"
   ]
  },
  {
   "cell_type": "code",
   "execution_count": 141,
   "metadata": {},
   "outputs": [
    {
     "data": {
      "text/plain": [
       "<matplotlib.axes._subplots.AxesSubplot at 0x7fc95f8917b8>"
      ]
     },
     "execution_count": 141,
     "metadata": {},
     "output_type": "execute_result"
    },
    {
     "data": {
      "image/png": "[encoded data removed]",
      "text/plain": [
       "<Figure size 432x288 with 1 Axes>"
      ]
     },
     "metadata": {},
     "output_type": "display_data"
    }
   ],
   "source": [
    "sns.barplot(x= estimators , y= adb_rfc_auc_scores)"
   ]
  },
  {
   "cell_type": "code",
   "execution_count": 135,
   "metadata": {},
   "outputs": [
    {
     "data": {
      "text/plain": [
       "<matplotlib.axes._subplots.AxesSubplot at 0x7fc964837080>"
      ]
     },
     "execution_count": 135,
     "metadata": {},
     "output_type": "execute_result"
    },
    {
     "data": {
      "image/png": "[encoded data removed]",
      "text/plain": [
       "<Figure size 432x288 with 1 Axes>"
      ]
     },
     "metadata": {},
     "output_type": "display_data"
    }
   ],
   "source": [
    "sns.lineplot(x= estimators , y= adb_rfc_auc_scores)"
   ]
  },
  {
   "cell_type": "code",
   "execution_count": 156,
   "metadata": {},
   "outputs": [],
   "source": [
    "\"\"\"GENEL KARŞILAŞTIRMALAR\"\"\"\n",
    "\n",
    "classifiers=[\"Log Reg\",\"KNN\",\"NB\",\"SVM\",\"DTree\",\"RForest\",\"BGDT\",\"ADBRF\"]\n",
    "results=[79.866,79.357,81.917,80.447,83.39,82.56,82.52,83.8]"
   ]
  },
  {
   "cell_type": "code",
   "execution_count": 160,
   "metadata": {},
   "outputs": [
    {
     "data": {
      "image/png": "[encoded data removed]",
      "text/plain": [
       "<Figure size 432x288 with 1 Axes>"
      ]
     },
     "metadata": {},
     "output_type": "display_data"
    }
   ],
   "source": [
    "sns.set(style=\"whitegrid\")\n",
    "ax=sns.barplot(x= classifiers , y= results)"
   ]
  },
  {
   "cell_type": "code",
   "execution_count": 168,
   "metadata": {},
   "outputs": [
    {
     "data": {
      "image/png": "[encoded data removed]",
      "text/plain": [
       "<Figure size 432x288 with 1 Axes>"
      ]
     },
     "metadata": {},
     "output_type": "display_data"
    }
   ],
   "source": [
    "sns.set(style=\"darkgrid\")\n",
    "ax= sns.lineplot(x= classifiers , y= results,sort=False)"
   ]
  },
  {
   "cell_type": "code",
   "execution_count": null,
   "metadata": {},
   "outputs": [],
   "source": []
  }
 ],
 "metadata": {
  "kernelspec": {
   "display_name": "my_jn_env",
   "language": "python",
   "name": "my_jn_env"
  },
  "language_info": {
   "codemirror_mode": {
    "name": "ipython",
    "version": 3
   },
   "file_extension": ".py",
   "mimetype": "text/x-python",
   "name": "python",
   "nbconvert_exporter": "python",
   "pygments_lexer": "ipython3",
   "version": "3.6.8"
  }
 },
 "nbformat": 4,
 "nbformat_minor": 2
}
