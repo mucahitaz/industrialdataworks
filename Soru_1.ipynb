{
 "cells": [
  {
   "cell_type": "code",
   "execution_count": 23,
   "metadata": {},
   "outputs": [],
   "source": [
    "import matplotlib.pyplot as plt\n",
    "\n",
    "from sklearn import datasets\n",
    "from sklearn.decomposition import PCA\n",
    "from sklearn.discriminant_analysis import LinearDiscriminantAnalysis\n",
    "from sklearn import preprocessing\n",
    "import numpy as np"
   ]
  },
  {
   "cell_type": "code",
   "execution_count": 21,
   "metadata": {},
   "outputs": [
    {
     "name": "stdout",
     "output_type": "stream",
     "text": [
      "['setosa' 'versicolor' 'virginica']\n"
     ]
    }
   ],
   "source": [
    "iris = datasets.load_iris()\n",
    "\n",
    "X = iris.data\n",
    "y = iris.target\n",
    "target_names = iris.target_names\n",
    "print(target_names)"
   ]
  },
  {
   "cell_type": "code",
   "execution_count": null,
   "metadata": {},
   "outputs": [],
   "source": [
    "print(X)"
   ]
  },
  {
   "cell_type": "code",
   "execution_count": null,
   "metadata": {},
   "outputs": [],
   "source": [
    "normalized_data = preprocessing.normalize(X)\n",
    "print(normalized_data)"
   ]
  },
  {
   "cell_type": "code",
   "execution_count": 26,
   "metadata": {},
   "outputs": [
    {
     "name": "stdout",
     "output_type": "stream",
     "text": [
      "Covariance matrix \n",
      "[[ 0.00196848  0.00344386 -0.00614974 -0.00310986]\n",
      " [ 0.00344386  0.01115638 -0.01630873 -0.00739517]\n",
      " [-0.00614974 -0.01630873  0.02559563  0.01183448]\n",
      " [-0.00310986 -0.00739517  0.01183448  0.00608039]]\n"
     ]
    }
   ],
   "source": [
    "mean_vec = np.mean(normalized_data, axis=0)\n",
    "cov_mat = (normalized_data - mean_vec).T.dot((normalized_data - mean_vec)) / (normalized_data.shape[0]-1)\n",
    "print('Covariance matrix \\n%s' %cov_mat)\n"
   ]
  },
  {
   "cell_type": "code",
   "execution_count": 27,
   "metadata": {},
   "outputs": [
    {
     "name": "stdout",
     "output_type": "stream",
     "text": [
      "Eigenvectors \n",
      "[[ 0.18359702  0.60210709  0.73783695  0.2436305 ]\n",
      " [ 0.49546167 -0.64966313  0.50106685 -0.28528504]\n",
      " [-0.76887947 -0.05931229  0.40257349 -0.49319469]\n",
      " [-0.36004754 -0.46031175  0.2060661   0.78486663]]\n",
      "\n",
      "Eigenvalues \n",
      "[4.31151532e-02 1.23590154e-03 8.33081887e-05 3.66512949e-04]\n"
     ]
    }
   ],
   "source": [
    "cov_mat = np.cov(normalized_data.T)\n",
    "\n",
    "eig_vals, eig_vecs = np.linalg.eig(cov_mat)\n",
    "\n",
    "print('Eigenvectors \\n%s' %eig_vecs)\n",
    "print('\\nEigenvalues \\n%s' %eig_vals)\n"
   ]
  },
  {
   "cell_type": "code",
   "execution_count": 28,
   "metadata": {},
   "outputs": [
    {
     "name": "stdout",
     "output_type": "stream",
     "text": [
      "[[ 0.30163722  0.00071565]\n",
      " [ 0.27092065  0.04235377]\n",
      " [ 0.29767949  0.00240655]\n",
      " [ 0.26266611  0.00266704]\n",
      " [ 0.30746945 -0.01871929]\n",
      " [ 0.275612   -0.03444468]\n",
      " [ 0.28980438 -0.03967502]\n",
      " [ 0.28272107  0.00228959]\n",
      " [ 0.26267711  0.01087568]\n",
      " [ 0.26981556  0.03649911]\n",
      " [ 0.29980315  0.00193011]\n",
      " [ 0.26894153 -0.01624238]\n",
      " [ 0.27699897  0.0419604 ]\n",
      " [ 0.3219414   0.00140409]\n",
      " [ 0.34876933  0.00486114]\n",
      " [ 0.32366368 -0.05650449]\n",
      " [ 0.32360826 -0.03014443]\n",
      " [ 0.29581749 -0.00659527]\n",
      " [ 0.27608892  0.00524753]\n",
      " [ 0.29990233 -0.03996396]\n",
      " [ 0.25805873  0.03131347]\n",
      " [ 0.28863385 -0.03658506]\n",
      " [ 0.363187   -0.05014394]\n",
      " [ 0.23311232 -0.00311721]\n",
      " [ 0.22878198 -0.02023955]\n",
      " [ 0.24394342  0.04727866]\n",
      " [ 0.25775078 -0.01389244]\n",
      " [ 0.28872239  0.00756523]\n",
      " [ 0.29573627  0.01994987]\n",
      " [ 0.25569464 -0.00185349]\n",
      " [ 0.24955962  0.01879597]\n",
      " [ 0.27168896  0.01987446]\n",
      " [ 0.32636668 -0.04834348]\n",
      " [ 0.33674586 -0.03953569]\n",
      " [ 0.26372033  0.02876174]\n",
      " [ 0.31075178  0.02951536]\n",
      " [ 0.31322245  0.0333198 ]\n",
      " [ 0.31349433 -0.01996924]\n",
      " [ 0.28465498 -0.00046314]\n",
      " [ 0.28281174  0.0105568 ]\n",
      " [ 0.30899289 -0.01380849]\n",
      " [ 0.22595188  0.094045  ]\n",
      " [ 0.29790309 -0.0256119 ]\n",
      " [ 0.25202324 -0.03959726]\n",
      " [ 0.24435608 -0.05138836]\n",
      " [ 0.26441306  0.02602921]\n",
      " [ 0.29295112 -0.03402569]\n",
      " [ 0.2835181  -0.00805797]\n",
      " [ 0.29990994 -0.00594255]\n",
      " [ 0.28994457  0.01506093]\n",
      " [-0.07489019  0.03558516]\n",
      " [-0.0826224  -0.00209602]\n",
      " [-0.10293793  0.02961801]\n",
      " [-0.12933552  0.03727088]\n",
      " [-0.11276231  0.03467599]\n",
      " [-0.12759167 -0.00254094]\n",
      " [-0.0994315  -0.0241758 ]\n",
      " [-0.06351726  0.01660328]\n",
      " [-0.09504049  0.04360018]\n",
      " [-0.10688052 -0.02745737]\n",
      " [-0.11396265  0.06322275]\n",
      " [-0.08855936 -0.01410755]\n",
      " [-0.10180364  0.09808212]\n",
      " [-0.12525578  0.00642121]\n",
      " [-0.04275728 -0.00567008]\n",
      " [-0.06698905  0.03073681]\n",
      " [-0.1256007  -0.03858076]\n",
      " [-0.08304574  0.03771062]\n",
      " [-0.15668394  0.06872563]\n",
      " [-0.09167998  0.04011722]\n",
      " [-0.13597133 -0.05463087]\n",
      " [-0.0690744   0.03125373]\n",
      " [-0.1632872   0.0425297 ]\n",
      " [-0.12402361  0.02620393]\n",
      " [-0.07761708  0.03653441]\n",
      " [-0.07656884  0.03296005]\n",
      " [-0.11354214  0.05408988]\n",
      " [-0.1306453   0.01396187]\n",
      " [-0.11692081 -0.00299952]\n",
      " [-0.0371126   0.05107592]\n",
      " [-0.09391057  0.04472055]\n",
      " [-0.07952265  0.05335637]\n",
      " [-0.07372158  0.02849455]\n",
      " [-0.18101455 -0.00060544]\n",
      " [-0.13368267 -0.05298723]\n",
      " [-0.08723312 -0.04955659]\n",
      " [-0.094532    0.02107275]\n",
      " [-0.12958943  0.07988525]\n",
      " [-0.08238908 -0.02152669]\n",
      " [-0.11417416  0.01842312]\n",
      " [-0.13777462  0.00913104]\n",
      " [-0.11052918 -0.00041487]\n",
      " [-0.09004129  0.03597393]\n",
      " [-0.06754452  0.03517306]\n",
      " [-0.11309709  0.00386303]\n",
      " [-0.08323373 -0.00971478]\n",
      " [-0.09466588 -0.00702811]\n",
      " [-0.0846979   0.02431817]\n",
      " [-0.01920972  0.01968846]\n",
      " [-0.0929515   0.00328292]\n",
      " [-0.2207235  -0.08247134]\n",
      " [-0.2004896  -0.03048974]\n",
      " [-0.19022548  0.00435036]\n",
      " [-0.19778415 -0.01497362]\n",
      " [-0.20974021 -0.03309944]\n",
      " [-0.2135543   0.02117987]\n",
      " [-0.20286242 -0.05941625]\n",
      " [-0.20365493  0.03069808]\n",
      " [-0.21950543  0.03460531]\n",
      " [-0.17704223 -0.05078794]\n",
      " [-0.14329389 -0.02994431]\n",
      " [-0.18946882  0.00453732]\n",
      " [-0.17554934 -0.0073778 ]\n",
      " [-0.21517687 -0.02551932]\n",
      " [-0.21085606 -0.0662148 ]\n",
      " [-0.17121867 -0.0536298 ]\n",
      " [-0.17691738 -0.00930194]\n",
      " [-0.17647693 -0.02911813]\n",
      " [-0.25286631  0.03833437]\n",
      " [-0.20398577  0.04769776]\n",
      " [-0.17940792 -0.02786997]\n",
      " [-0.19099679 -0.05563131]\n",
      " [-0.2233102   0.04189514]\n",
      " [-0.16122414  0.00949555]\n",
      " [-0.1744038  -0.03646796]\n",
      " [-0.17209715  0.00919532]\n",
      " [-0.15108817 -0.00328154]\n",
      " [-0.14933169 -0.026736  ]\n",
      " [-0.21003534 -0.01729329]\n",
      " [-0.16433769  0.03525791]\n",
      " [-0.19668899  0.04039369]\n",
      " [-0.14733393 -0.0077934 ]\n",
      " [-0.21325225 -0.02248866]\n",
      " [-0.15848259  0.01542817]\n",
      " [-0.21141633  0.01727354]\n",
      " [-0.18698012  0.02305936]\n",
      " [-0.18594718 -0.08159258]\n",
      " [-0.17447933 -0.02259984]\n",
      " [-0.14560303 -0.03209441]\n",
      " [-0.15918725 -0.00769618]\n",
      " [-0.1893704  -0.0363501 ]\n",
      " [-0.14513947 -0.01444852]\n",
      " [-0.2004896  -0.03048974]\n",
      " [-0.19573455 -0.03554603]\n",
      " [-0.18690731 -0.05600153]\n",
      " [-0.1654518  -0.01996192]\n",
      " [-0.18529673  0.01829649]\n",
      " [-0.16295487 -0.01618893]\n",
      " [-0.17297742 -0.08148463]\n",
      " [-0.1721954  -0.04201943]]\n"
     ]
    }
   ],
   "source": [
    "pca = PCA(n_components=2)\n",
    "normalized_data_r = pca.fit(normalized_data).transform(normalized_data)\n",
    "print(normalized_data_r)"
   ]
  },
  {
   "cell_type": "code",
   "execution_count": 19,
   "metadata": {},
   "outputs": [
    {
     "name": "stdout",
     "output_type": "stream",
     "text": [
      "explained variance ratio (first two components): [0.962373   0.02758655]\n"
     ]
    },
    {
     "data": {
      "text/plain": [
       "<Figure size 432x288 with 0 Axes>"
      ]
     },
     "metadata": {},
     "output_type": "display_data"
    }
   ],
   "source": [
    "print('explained variance ratio (first two components): %s'\n",
    "      % str(pca.explained_variance_ratio_))\n",
    "\n",
    "plt.figure()\n",
    "colors = ['navy', 'turquoise', 'darkorange']\n",
    "lw = 2"
   ]
  },
  {
   "cell_type": "code",
   "execution_count": 20,
   "metadata": {},
   "outputs": [
    {
     "data": {
      "text/plain": [
       "Text(0.5, 1.0, 'PCA of IRIS dataset')"
      ]
     },
     "execution_count": 20,
     "metadata": {},
     "output_type": "execute_result"
    },
    {
     "data": {
      "image/png": "[encoded data removed]",
      "text/plain": [
       "<Figure size 432x288 with 1 Axes>"
      ]
     },
     "metadata": {
      "needs_background": "light"
     },
     "output_type": "display_data"
    }
   ],
   "source": [
    "for color, i, target_name in zip(colors, [0, 1, 2], target_names):\n",
    "    plt.scatter(normalized_data_r[y == i, 0], normalized_data_r[y == i, 1], color=color, alpha=.8, lw=lw,\n",
    "                label=target_name)\n",
    "plt.legend(loc='best', shadow=False, scatterpoints=1)\n",
    "plt.title('PCA of IRIS dataset')"
   ]
  },
  {
   "cell_type": "code",
   "execution_count": null,
   "metadata": {},
   "outputs": [],
   "source": []
  }
 ],
 "metadata": {
  "kernelspec": {
   "display_name": "VirtualJN",
   "language": "python",
   "name": "virtualjn"
  },
  "language_info": {
   "codemirror_mode": {
    "name": "ipython",
    "version": 3
   },
   "file_extension": ".py",
   "mimetype": "text/x-python",
   "name": "python",
   "nbconvert_exporter": "python",
   "pygments_lexer": "ipython3",
   "version": "3.6.8"
  }
 },
 "nbformat": 4,
 "nbformat_minor": 2
}
