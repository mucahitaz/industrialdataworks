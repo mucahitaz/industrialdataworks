{
 "cells": [
  {
   "cell_type": "code",
   "execution_count": 1,
   "metadata": {},
   "outputs": [],
   "source": [
    "from sklearn import svm\n",
    "import numpy as np\n",
    "import pandas as pd\n",
    "from sklearn.metrics import confusion_matrix\n",
    "from sklearn.metrics import roc_auc_score , accuracy_score"
   ]
  },
  {
   "cell_type": "code",
   "execution_count": 2,
   "metadata": {},
   "outputs": [],
   "source": [
    "optdigitstrain = pd.read_csv(r'/home/mucahit/Desktop/optdigits.tra', \n",
    "                        header = None)"
   ]
  },
  {
   "cell_type": "code",
   "execution_count": 3,
   "metadata": {},
   "outputs": [],
   "source": [
    "optdigitstest = pd.read_csv(r'/home/mucahit/Desktop/optdigits.tes',\n",
    "                        header = None)"
   ]
  },
  {
   "cell_type": "code",
   "execution_count": 4,
   "metadata": {},
   "outputs": [],
   "source": [
    "X_train = optdigitstrain.drop(64, axis=1)\n",
    "y_train = optdigitstrain[64]\n",
    "X_test = optdigitstest.drop(64, axis=1)\n",
    "y_test = optdigitstest[64]"
   ]
  },
  {
   "cell_type": "code",
   "execution_count": 5,
   "metadata": {},
   "outputs": [],
   "source": [
    "#en düşük accuracy 8 de bulunduğu için\n",
    "\n",
    "for i in range(len(y_train)):\n",
    "    if y_train[i] == 8:\n",
    "        y_train[i] = 1\n",
    "    else:\n",
    "        y_train[i] = 0\n",
    "\n",
    "for i in range(len(y_test)):\n",
    "    if y_test[i] == 8:\n",
    "        y_test[i] = 1\n",
    "    else:\n",
    "        y_test[i] = 0\n"
   ]
  },
  {
   "cell_type": "code",
   "execution_count": 13,
   "metadata": {},
   "outputs": [
    {
     "name": "stdout",
     "output_type": "stream",
     "text": [
      "SVM Accuracy for 1. Degree Polynomial = 0.96049\n",
      "Confusion Matrix for 1. degree Polynomial =\n",
      " [[1612   11]\n",
      " [  60  114]]\n",
      "AUC Score for 1. degree Polynomial = 0.8242\n",
      "SVM Accuracy for 2. Degree Polynomial = 0.98442\n",
      "Confusion Matrix for 2. degree Polynomial =\n",
      " [[1620    3]\n",
      " [  25  149]]\n",
      "AUC Score for 2. degree Polynomial = 0.92724\n",
      "SVM Accuracy for 3. Degree Polynomial = 0.98831\n",
      "Confusion Matrix for 3. degree Polynomial =\n",
      " [[1620    3]\n",
      " [  18  156]]\n",
      "AUC Score for 3. degree Polynomial = 0.94735\n",
      "SVM Accuracy for 4. Degree Polynomial = 0.98887\n",
      "Confusion Matrix for 4. degree Polynomial =\n",
      " [[1619    4]\n",
      " [  16  158]]\n",
      "AUC Score for 4. degree Polynomial = 0.95279\n",
      "SVM Accuracy for 5. Degree Polynomial = 0.98831\n",
      "Confusion Matrix for 5. degree Polynomial =\n",
      " [[1620    3]\n",
      " [  18  156]]\n",
      "AUC Score for 5. degree Polynomial = 0.94735\n"
     ]
    }
   ],
   "source": [
    "for degree in range(1, 6):\n",
    "    SVM = svm.SVC(kernel=\"poly\", degree=degree, gamma='scale')\n",
    "    SVM.fit(X_train, y_train)\n",
    "    SVMy_pred = SVM.predict(X_test)\n",
    "\n",
    "    print('SVM Accuracy for {}. Degree Polynomial = {}'.format(\n",
    "            degree,\n",
    "            round(accuracy_score(SVMy_pred, y_test),5)\n",
    "        )\n",
    "    )\n",
    "    \n",
    "    print(\n",
    "        'Confusion Matrix for {}. degree Polynomial =\\n {}'.format(\n",
    "            degree,\n",
    "            confusion_matrix(y_test, SVMy_pred)\n",
    "        )\n",
    "    )\n",
    "    print(\n",
    "        'AUC Score for {}. degree Polynomial = {}'.format(\n",
    "            degree,\n",
    "            round(roc_auc_score(y_test, SVMy_pred), 5)\n",
    "        )\n",
    "    )"
   ]
  }
 ],
 "metadata": {
  "kernelspec": {
   "display_name": "my_jn_env",
   "language": "python",
   "name": "my_jn_env"
  },
  "language_info": {
   "codemirror_mode": {
    "name": "ipython",
    "version": 3
   },
   "file_extension": ".py",
   "mimetype": "text/x-python",
   "name": "python",
   "nbconvert_exporter": "python",
   "pygments_lexer": "ipython3",
   "version": "3.6.8"
  }
 },
 "nbformat": 4,
 "nbformat_minor": 2
}
