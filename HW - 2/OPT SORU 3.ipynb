{
 "cells": [
  {
   "cell_type": "code",
   "execution_count": 1,
   "metadata": {},
   "outputs": [],
   "source": [
    "from sklearn import svm\n",
    "import numpy as np\n",
    "import pandas as pd\n",
    "from sklearn.metrics import confusion_matrix\n",
    "from sklearn.metrics import roc_auc_score , accuracy_score"
   ]
  },
  {
   "cell_type": "code",
   "execution_count": 2,
   "metadata": {},
   "outputs": [],
   "source": [
    "optdigitstrain = pd.read_csv(r'/home/mucahit/Desktop/optdigits.tra', \n",
    "                        header = None)"
   ]
  },
  {
   "cell_type": "code",
   "execution_count": 3,
   "metadata": {},
   "outputs": [],
   "source": [
    "optdigitstest = pd.read_csv(r'/home/mucahit/Desktop/optdigits.tes',\n",
    "                        header = None)"
   ]
  },
  {
   "cell_type": "code",
   "execution_count": 4,
   "metadata": {},
   "outputs": [],
   "source": [
    "X_train = optdigitstrain.drop(64, axis=1)\n",
    "y_train = optdigitstrain[64]\n",
    "X_test = optdigitstest.drop(64, axis=1)\n",
    "y_test = optdigitstest[64]"
   ]
  },
  {
   "cell_type": "code",
   "execution_count": 5,
   "metadata": {},
   "outputs": [],
   "source": [
    "#en düşük accuracy 8 de bulunduğu için\n",
    "\n",
    "for i in range(len(y_train)):\n",
    "    if y_train[i] == 8:\n",
    "        y_train[i] = 1\n",
    "    else:\n",
    "        y_train[i] = 0\n",
    "\n",
    "for i in range(len(y_test)):\n",
    "    if y_test[i] == 8:\n",
    "        y_test[i] = 1\n",
    "    else:\n",
    "        y_test[i] = 0\n"
   ]
  },
  {
   "cell_type": "code",
   "execution_count": 6,
   "metadata": {},
   "outputs": [
    {
     "name": "stdout",
     "output_type": "stream",
     "text": [
      "SVM Accuracy for RBF = 0.98998\n",
      "Confusion Matrix for RBF =\n",
      " [[1619    4]\n",
      " [  14  160]]\n",
      "AUC Score for RBF = 0.95854\n"
     ]
    }
   ],
   "source": [
    "\n",
    "SVM = svm.SVC(kernel=\"rbf\", C = 1000 , gamma = \"scale\")\n",
    "SVM.fit(X_train, y_train)\n",
    "SVMy_pred = SVM.predict(X_test)\n",
    "\n",
    "print('SVM Accuracy for RBF = {}'.format(\n",
    "        round(accuracy_score(SVMy_pred, y_test),5)\n",
    "    )\n",
    ")\n",
    "    \n",
    "print(\n",
    "    'Confusion Matrix for RBF =\\n {}'.format(\n",
    "        confusion_matrix(y_test, SVMy_pred)\n",
    "    )\n",
    ")\n",
    "print(\n",
    "    'AUC Score for RBF = {}'.format(\n",
    "        round(roc_auc_score(y_test, SVMy_pred), 5)\n",
    "    )\n",
    ")"
   ]
  }
 ],
 "metadata": {
  "kernelspec": {
   "display_name": "my_jn_env",
   "language": "python",
   "name": "my_jn_env"
  },
  "language_info": {
   "codemirror_mode": {
    "name": "ipython",
    "version": 3
   },
   "file_extension": ".py",
   "mimetype": "text/x-python",
   "name": "python",
   "nbconvert_exporter": "python",
   "pygments_lexer": "ipython3",
   "version": "3.6.8"
  }
 },
 "nbformat": 4,
 "nbformat_minor": 2
}
